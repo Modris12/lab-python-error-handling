{
 "cells": [
  {
   "cell_type": "code",
   "execution_count": 21,
   "metadata": {},
   "outputs": [],
   "source": [
    "#1  \n",
    "products = [\"mug\",\"t-shirt\", \"hat\", \"book\", \"keychain\"]"
   ]
  },
  {
   "cell_type": "code",
   "execution_count": 22,
   "metadata": {},
   "outputs": [],
   "source": [
    "def initialize_inventory(products):\n",
    "    inventory = {}\n",
    "    for product in products:\n",
    "        valid_quantity = False\n",
    "        while not valid_quantity:\n",
    "            try:\n",
    "                quantity = int(input(f\"Enter the quantity of {product}s available: \"))\n",
    "                if quantity < 0:\n",
    "                    raise ValueError(\"Invalid quantity! Please enter a non-negative value.\")\n",
    "                valid_quantity = True\n",
    "            except ValueError as error:\n",
    "                print(f\"Error: {error}\")\n",
    "        inventory[product] = quantity\n",
    "    return inventory\n"
   ]
  },
  {
   "cell_type": "code",
   "execution_count": 23,
   "metadata": {},
   "outputs": [],
   "source": [
    "def get_customer_orders(products):\n",
    "    print(\"Available products:\", \", \".join(products))\n",
    "\n",
    "    while True:\n",
    "        try:\n",
    "            num_orders = int(input(\"How many different products would you like to order? \"))\n",
    "            if num_orders <= 0:\n",
    "                raise ValueError(\"You must order at least one product.\")\n",
    "            break\n",
    "        except ValueError as e:\n",
    "            print(f\"Invalid input: {e}. Please enter a valid number.\")\n",
    "            continue  # Ensure the prompt restarts immediately\n",
    "\n",
    "    customer_orders = set()\n",
    "\n",
    "    for i in range(num_orders):\n",
    "        while True:\n",
    "            try:\n",
    "                product = input(f\"Enter the name of product {i + 1}: \").strip().lower()\n",
    "                if product not in products:\n",
    "                    raise ValueError(f\"'{product}' is not in the inventory or is out of stock.\")\n",
    "                customer_orders.add(product)\n",
    "                break  # Exit the loop for this product if input is valid\n",
    "            except ValueError as e:\n",
    "                print(f\"Invalid input: {e}. Please enter a valid product name.\")\n",
    "                continue  # Restart the loop immediately\n",
    "\n",
    "    print(\"Your valid order:\", customer_orders)\n",
    "    return customer_orders\n",
    "\n",
    "def calculate_total_price(customer_orders):\n",
    "    if not customer_orders:\n",
    "        print(\"No items in the order to calculate the price.\")\n",
    "        return 0\n",
    "\n",
    "    print(\"Please enter the price for each product in your order.\")\n",
    "\n",
    "    total_price = 0\n",
    "\n",
    "    for product in customer_orders:\n",
    "        while True:\n",
    "            try:\n",
    "                price = float(input(f\"Enter the price for {product}: \").strip())\n",
    "                if price < 0:\n",
    "                    raise ValueError(\"Price cannot be negative.\")\n",
    "                total_price += price\n",
    "                break\n",
    "            except ValueError as e:\n",
    "                print(f\"Invalid input: {e}. Please enter a valid price for {product}.\")\n",
    "\n",
    "    print(f\"The total price of your order is: €{total_price:.2f}\")\n",
    "    return total_price"
   ]
  },
  {
   "cell_type": "code",
   "execution_count": 24,
   "metadata": {},
   "outputs": [],
   "source": [
    "def update_inventory(customer_orders, inventory):\n",
    "    for product in customer_orders:\n",
    "        if product in inventory and inventory[product] > 0:\n",
    "            inventory[product] -= 1\n",
    "        else:\n",
    "            print(f\"Product {product} is out of stock.\")\n",
    "    inventory = {product: qty for product, qty in inventory.items() if qty > 0}\n",
    "    print(\"Updated inventory:\", inventory)\n",
    "    return inventory\n",
    "\n"
   ]
  },
  {
   "cell_type": "code",
   "execution_count": 25,
   "metadata": {},
   "outputs": [],
   "source": [
    "def print_order_statistics(order_statistics):\n",
    "    total_products_ordered, percentage_ordered = order_statistics\n",
    "    print(\"Order Statistics:\")\n",
    "    print(f\"Total Products Ordered: {total_products_ordered}\")\n",
    "    print(f\"Percentage of Products Ordered: {percentage_ordered:.2f}%\")"
   ]
  },
  {
   "cell_type": "code",
   "execution_count": 26,
   "metadata": {},
   "outputs": [],
   "source": [
    "def print_updated_inventory(inventory):\n",
    "    print(\"Updated Inventory:\")\n",
    "    for product, quantity in inventory.items():\n",
    "        print(f\"{product}: {quantity}\")\n",
    "        "
   ]
  },
  {
   "cell_type": "code",
   "execution_count": 27,
   "metadata": {},
   "outputs": [],
   "source": [
    "def calculate_order_statistics(customer_orders, products):\n",
    "    total_products_ordered = len(customer_orders)\n",
    "    percentage_ordered = (total_products_ordered / len(products)) * 100\n",
    "    return total_products_ordered, percentage_ordered\n"
   ]
  },
  {
   "cell_type": "code",
   "execution_count": 28,
   "metadata": {},
   "outputs": [],
   "source": [
    "def main():\n",
    "    products = [\"mug\", \"t-shirt\", \"hat\", \"book\", \"keychain\"]"
   ]
  },
  {
   "cell_type": "code",
   "execution_count": 29,
   "metadata": {},
   "outputs": [],
   "source": [
    "def calculate_total_price(customer_orders):\n",
    "    if not customer_orders:\n",
    "        print(\"No items in the order to calculate the price.\")\n",
    "        return 0\n",
    "    \n",
    "    print(\"Please enter the price for each product in your order.\")\n",
    "    \n",
    "    total_price = 0\n",
    "    for product in customer_orders:\n",
    "        price = float(input(f\"Enter the price for {product}: \").strip())\n",
    "        print(f\"The price of {product} is: €{price:.2f}\")  # Print the price of each product\n",
    "        total_price += price  # Add the product price to the total\n",
    "    \n",
    "    print(f\"The total price of your order is: €{total_price:.2f}\")\n",
    "    return total_price"
   ]
  },
  {
   "cell_type": "code",
   "execution_count": 30,
   "metadata": {},
   "outputs": [
    {
     "name": "stdout",
     "output_type": "stream",
     "text": [
      "Available products: mug, t-shirt, hat, book, keychain\n",
      "Invalid input: You must order at least one product.. Please enter a valid number.\n",
      "Invalid input: 'me' is not in the inventory or is out of stock.. Please enter a valid product name.\n",
      "Invalid input: 'jo' is not in the inventory or is out of stock.. Please enter a valid product name.\n",
      "Your valid order: {'book', 'mug'}\n",
      "Updated inventory: {'mug': 4, 't-shirt': 5, 'hat': 5, 'book': 4, 'keychain': 5}\n",
      "Order Statistics:\n",
      "Total Products Ordered: 2\n",
      "Percentage of Products Ordered: 40.00%\n",
      "Updated Inventory:\n",
      "mug: 4\n",
      "t-shirt: 5\n",
      "hat: 5\n",
      "book: 4\n",
      "keychain: 5\n",
      "Please enter the price for each product in your order.\n",
      "The price of book is: €-1.00\n",
      "The price of mug is: €10.00\n",
      "The total price of your order is: €9.00\n"
     ]
    },
    {
     "data": {
      "text/plain": [
       "9.0"
      ]
     },
     "execution_count": 30,
     "metadata": {},
     "output_type": "execute_result"
    }
   ],
   "source": [
    "inventory = initialize_inventory(products)\n",
    "\n",
    "customer_orders = get_customer_orders(products)\n",
    "\n",
    "update_inventory(customer_orders, inventory)\n",
    "\n",
    "order_statistics = calculate_order_statistics(customer_orders, products)\n",
    "\n",
    "print_order_statistics(order_statistics)\n",
    "\n",
    "print_updated_inventory(inventory)\n",
    "\n",
    "calculate_total_price(customer_orders)"
   ]
  },
  {
   "cell_type": "code",
   "execution_count": null,
   "metadata": {},
   "outputs": [],
   "source": [
    "main()"
   ]
  },
  {
   "cell_type": "code",
   "execution_count": null,
   "metadata": {},
   "outputs": [],
   "source": []
  }
 ],
 "metadata": {
  "kernelspec": {
   "display_name": "Python 3",
   "language": "python",
   "name": "python3"
  },
  "language_info": {
   "codemirror_mode": {
    "name": "ipython",
    "version": 3
   },
   "file_extension": ".py",
   "mimetype": "text/x-python",
   "name": "python",
   "nbconvert_exporter": "python",
   "pygments_lexer": "ipython3",
   "version": "3.13.1"
  }
 },
 "nbformat": 4,
 "nbformat_minor": 2
}
